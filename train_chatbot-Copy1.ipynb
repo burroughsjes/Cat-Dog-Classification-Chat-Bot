{
 "cells": [
  {
   "cell_type": "code",
   "execution_count": 1,
   "metadata": {},
   "outputs": [
    {
     "name": "stderr",
     "output_type": "stream",
     "text": [
      "[nltk_data] Downloading package wordnet to\n",
      "[nltk_data]     C:\\Users\\jbjb2\\AppData\\Roaming\\nltk_data...\n",
      "[nltk_data]   Package wordnet is already up-to-date!\n",
      "Using TensorFlow backend.\n"
     ]
    }
   ],
   "source": [
    "import nltk\n",
    "nltk.download('wordnet')\n",
    "from nltk.stem import WordNetLemmatizer\n",
    "\n",
    "import json\n",
    "import pickle\n",
    "\n",
    "import numpy as np\n",
    "\n",
    "from keras.models import Sequential\n",
    "from keras.layers import Dense, Activation, Dropout\n",
    "from keras.optimizers import SGD\n",
    "\n",
    "import random"
   ]
  },
  {
   "cell_type": "code",
   "execution_count": 2,
   "metadata": {},
   "outputs": [],
   "source": [
    "#what is lemmatization: https://www.machinelearningplus.com/nlp/lemmatization-examples-python/\n",
    "lemmatizer = WordNetLemmatizer() "
   ]
  },
  {
   "cell_type": "code",
   "execution_count": 3,
   "metadata": {},
   "outputs": [],
   "source": [
    "words = []\n",
    "classes = []\n",
    "documents = []\n",
    "ignore_words = ['?', '!']\n",
    "data_file = open('intents.json').read()\n",
    "intents = json.loads(data_file)"
   ]
  },
  {
   "cell_type": "code",
   "execution_count": 4,
   "metadata": {},
   "outputs": [
    {
     "name": "stdout",
     "output_type": "stream",
     "text": [
      "40 documents\n",
      "6 classes ['answer', 'goodbye', 'greeting', 'options', 'predicting', 'thanks']\n",
      "70 unique lemmatized words [\"'s\", ',', 'a', 'actually', 'answer', 'anyone', 'are', 'awesome', 'be', 'broken', 'bye', 'can', 'chatting', 'correct', 'could', 'day', 'do', 'doe', 'enter', 'for', 'give', 'good', 'goodbye', 'hello', 'help', 'helpful', 'helping', 'hey', 'hi', 'hola', 'how', 'i', 'image', 'incorrect', 'insert', 'inserting', 'instruction', 'is', 'later', 'link', 'me', 'my', \"n't\", 'next', 'nice', 'not', 'offered', 'on', 'option', 'other', 'picture', 'provide', 'see', 'send', 'support', 'thank', 'thanks', 'that', 'the', 'there', 'this', 'till', 'time', 'to', 'what', 'with', 'work', 'working', 'wrong', 'you']\n"
     ]
    }
   ],
   "source": [
    "#preprocessing data\n",
    "\n",
    "#tokenizing data: breaking whole text into small parts\n",
    "#iterating through patterns and tokenizing sentences\n",
    "#classes list collects tags\n",
    "\n",
    "for intent in intents['intents']:\n",
    "    for pattern in intent['patterns']:\n",
    "        #tokenize each word\n",
    "        w = nltk.word_tokenize(pattern)\n",
    "        words.extend(w)\n",
    "        #add documents in the corpus\n",
    "        documents.append((w, intent['tag']))\n",
    "        \n",
    "        #add to out classes list\n",
    "        if intent['tag'] not in classes:\n",
    "            classes.append(intent['tag'])\n",
    "            \n",
    "#lemmatize, lower each word, and remove duplicates\n",
    "words = [lemmatizer.lemmatize(w.lower()) for w in words if w not in ignore_words]\n",
    "words = sorted(list(set(words)))\n",
    "#sort classes\n",
    "classes = sorted(list(set(classes)))\n",
    "#documents=combination between patterns and intents\n",
    "print(len(documents), 'documents')\n",
    "#classes=intents\n",
    "print(len(classes), 'classes', classes)\n",
    "#words=all words, vocab\n",
    "print(len(words), 'unique lemmatized words', words)\n",
    "\n",
    "pickle.dump(words, open('words.pkl','wb'))\n",
    "pickle.dump(classes, open('classes.pkl','wb'))"
   ]
  },
  {
   "cell_type": "code",
   "execution_count": 5,
   "metadata": {},
   "outputs": [
    {
     "name": "stdout",
     "output_type": "stream",
     "text": [
      "Training data created\n"
     ]
    }
   ],
   "source": [
    "# create our training data\n",
    "training = []\n",
    "# create an empty array for our output\n",
    "output_empty = [0] * len(classes)\n",
    "# training set, bag of words for each sentence\n",
    "for doc in documents:\n",
    "    # initialize our bag of words\n",
    "    bag = []\n",
    "    # list of tokenized words for the pattern\n",
    "    pattern_words = doc[0]\n",
    "    # lemmatize each word - create base word, in attempt to represent related words\n",
    "    pattern_words = [lemmatizer.lemmatize(word.lower()) for word in pattern_words]\n",
    "    # create our bag of words array with 1, if word match found in current pattern\n",
    "    for w in words:\n",
    "        bag.append(1) if w in pattern_words else bag.append(0)\n",
    "        # output is a '0' for each tag and '1' for current tag (for each pattern)\n",
    "        output_row = list(output_empty)\n",
    "        output_row[classes.index(doc[1])] = 1\n",
    "        training.append([bag, output_row])\n",
    "# shuffle our features and turn into np.array\n",
    "random.shuffle(training)\n",
    "training = np.array(training)\n",
    "# create train and test lists. X - patterns, Y - intents\n",
    "train_x = list(training[:,0])\n",
    "train_y = list(training[:,1])\n",
    "print(\"Training data created\")"
   ]
  },
  {
   "cell_type": "code",
   "execution_count": 6,
   "metadata": {},
   "outputs": [
    {
     "name": "stdout",
     "output_type": "stream",
     "text": [
      "Epoch 1/50\n",
      "2800/2800 [==============================] - 1s 249us/step - loss: 0.4597 - accuracy: 0.8589\n",
      "Epoch 2/50\n",
      "2800/2800 [==============================] - 1s 216us/step - loss: 0.0350 - accuracy: 0.9932\n",
      "Epoch 3/50\n",
      "2800/2800 [==============================] - 1s 217us/step - loss: 0.0172 - accuracy: 0.9964\n",
      "Epoch 4/50\n",
      "2800/2800 [==============================] - 0s 174us/step - loss: 0.0114 - accuracy: 0.9971\n",
      "Epoch 5/50\n",
      "2800/2800 [==============================] - 1s 180us/step - loss: 0.0103 - accuracy: 0.9986\n",
      "Epoch 6/50\n",
      "2800/2800 [==============================] - 1s 255us/step - loss: 0.0116 - accuracy: 0.9975\n",
      "Epoch 7/50\n",
      "2800/2800 [==============================] - 1s 281us/step - loss: 0.0065 - accuracy: 0.9993\n",
      "Epoch 8/50\n",
      "2800/2800 [==============================] - 0s 174us/step - loss: 0.0051 - accuracy: 0.9993\n",
      "Epoch 9/50\n",
      "2800/2800 [==============================] - 1s 243us/step - loss: 0.0045 - accuracy: 0.9993\n",
      "Epoch 10/50\n",
      "2800/2800 [==============================] - 0s 167us/step - loss: 0.0047 - accuracy: 0.9989\n",
      "Epoch 11/50\n",
      "2800/2800 [==============================] - 0s 176us/step - loss: 0.0050 - accuracy: 0.9986\n",
      "Epoch 12/50\n",
      "2800/2800 [==============================] - 0s 166us/step - loss: 0.0029 - accuracy: 1.0000\n",
      "Epoch 13/50\n",
      "2800/2800 [==============================] - 0s 167us/step - loss: 0.0028 - accuracy: 0.9989\n",
      "Epoch 14/50\n",
      "2800/2800 [==============================] - 1s 184us/step - loss: 0.0026 - accuracy: 0.9993\n",
      "Epoch 15/50\n",
      "2800/2800 [==============================] - 0s 157us/step - loss: 0.0027 - accuracy: 0.9993\n",
      "Epoch 16/50\n",
      "2800/2800 [==============================] - 0s 169us/step - loss: 0.0014 - accuracy: 1.0000\n",
      "Epoch 17/50\n",
      "2800/2800 [==============================] - 1s 195us/step - loss: 0.0015 - accuracy: 1.0000\n",
      "Epoch 18/50\n",
      "2800/2800 [==============================] - 0s 165us/step - loss: 9.5930e-04 - accuracy: 1.0000\n",
      "Epoch 19/50\n",
      "2800/2800 [==============================] - 0s 157us/step - loss: 0.0011 - accuracy: 1.0000\n",
      "Epoch 20/50\n",
      "2800/2800 [==============================] - 0s 173us/step - loss: 0.0020 - accuracy: 0.9996\n",
      "Epoch 21/50\n",
      "2800/2800 [==============================] - 0s 164us/step - loss: 0.0013 - accuracy: 1.0000\n",
      "Epoch 22/50\n",
      "2800/2800 [==============================] - 0s 171us/step - loss: 0.0016 - accuracy: 0.9996\n",
      "Epoch 23/50\n",
      "2800/2800 [==============================] - 0s 162us/step - loss: 0.0028 - accuracy: 0.9993\n",
      "Epoch 24/50\n",
      "2800/2800 [==============================] - 0s 161us/step - loss: 7.6446e-04 - accuracy: 1.0000\n",
      "Epoch 25/50\n",
      "2800/2800 [==============================] - 0s 176us/step - loss: 0.0015 - accuracy: 1.0000\n",
      "Epoch 26/50\n",
      "2800/2800 [==============================] - 0s 160us/step - loss: 0.0014 - accuracy: 1.0000\n",
      "Epoch 27/50\n",
      "2800/2800 [==============================] - 1s 234us/step - loss: 0.0020 - accuracy: 0.9996\n",
      "Epoch 28/50\n",
      "2800/2800 [==============================] - 1s 381us/step - loss: 0.0019 - accuracy: 0.9996\n",
      "Epoch 29/50\n",
      "2800/2800 [==============================] - 1s 268us/step - loss: 0.0021 - accuracy: 0.9996\n",
      "Epoch 30/50\n",
      "2800/2800 [==============================] - 1s 243us/step - loss: 0.0035 - accuracy: 0.9993\n",
      "Epoch 31/50\n",
      "2800/2800 [==============================] - 0s 177us/step - loss: 0.0015 - accuracy: 1.0000\n",
      "Epoch 32/50\n",
      "2800/2800 [==============================] - 0s 174us/step - loss: 0.0020 - accuracy: 0.9993\n",
      "Epoch 33/50\n",
      "2800/2800 [==============================] - 0s 174us/step - loss: 0.0022 - accuracy: 0.9993\n",
      "Epoch 34/50\n",
      "2800/2800 [==============================] - 0s 169us/step - loss: 0.0011 - accuracy: 0.9996\n",
      "Epoch 35/50\n",
      "2800/2800 [==============================] - 1s 186us/step - loss: 4.8260e-04 - accuracy: 1.0000\n",
      "Epoch 36/50\n",
      "2800/2800 [==============================] - 0s 169us/step - loss: 6.8047e-04 - accuracy: 1.0000\n",
      "Epoch 37/50\n",
      "2800/2800 [==============================] - 1s 203us/step - loss: 0.0015 - accuracy: 0.9993\n",
      "Epoch 38/50\n",
      "2800/2800 [==============================] - 0s 175us/step - loss: 0.0019 - accuracy: 0.9996\n",
      "Epoch 39/50\n",
      "2800/2800 [==============================] - 0s 169us/step - loss: 0.0015 - accuracy: 1.0000\n",
      "Epoch 40/50\n",
      "2800/2800 [==============================] - 0s 158us/step - loss: 0.0012 - accuracy: 0.9996\n",
      "Epoch 41/50\n",
      "2800/2800 [==============================] - 0s 154us/step - loss: 8.9795e-04 - accuracy: 1.0000\n",
      "Epoch 42/50\n",
      "2800/2800 [==============================] - 0s 172us/step - loss: 0.0012 - accuracy: 0.9996\n",
      "Epoch 43/50\n",
      "2800/2800 [==============================] - 0s 156us/step - loss: 0.0013 - accuracy: 1.0000\n",
      "Epoch 44/50\n",
      "2800/2800 [==============================] - 0s 170us/step - loss: 0.0013 - accuracy: 0.9996\n",
      "Epoch 45/50\n",
      "2800/2800 [==============================] - 0s 157us/step - loss: 9.9960e-04 - accuracy: 1.0000\n",
      "Epoch 46/50\n",
      "2800/2800 [==============================] - 0s 163us/step - loss: 7.3121e-04 - accuracy: 1.0000\n",
      "Epoch 47/50\n",
      "2800/2800 [==============================] - 0s 167us/step - loss: 7.1087e-04 - accuracy: 1.0000\n",
      "Epoch 48/50\n",
      "2800/2800 [==============================] - 0s 151us/step - loss: 7.1532e-04 - accuracy: 1.0000\n",
      "Epoch 49/50\n",
      "2800/2800 [==============================] - 1s 222us/step - loss: 0.0013 - accuracy: 0.9996\n",
      "Epoch 50/50\n",
      "2800/2800 [==============================] - 0s 154us/step - loss: 0.0011 - accuracy: 0.9996\n",
      "model created\n"
     ]
    }
   ],
   "source": [
    "# Create model - 3 layers. First layer 128 neurons, second layer 64 neurons and 3rd output layer\n",
    "#contains number of neurons\n",
    "# equal to number of intents to predict output intent with softmax\n",
    "model = Sequential()\n",
    "model.add(Dense(128, input_shape=(len(train_x[0]),), activation='relu'))\n",
    "model.add(Dropout(0.5))\n",
    "model.add(Dense(64, activation='relu'))\n",
    "model.add(Dropout(0.5))\n",
    "model.add(Dense(len(train_y[0]), activation='softmax'))\n",
    "# Compile model. Stochastic gradient descent with Nesterov accelerated gradient gives good results for this model\n",
    "sgd = SGD(lr=0.01, decay=1e-6, momentum=0.9, nesterov=True)\n",
    "model.compile(loss='categorical_crossentropy', optimizer=sgd, metrics=['accuracy'])\n",
    "#fitting and saving the model \n",
    "hist = model.fit(np.array(train_x), np.array(train_y), epochs=50, batch_size=5, verbose=1)\n",
    "model.save('chatbot_model.h5', hist)\n",
    "print(\"model created\")"
   ]
  },
  {
   "cell_type": "code",
   "execution_count": null,
   "metadata": {},
   "outputs": [],
   "source": []
  }
 ],
 "metadata": {
  "kernelspec": {
   "display_name": "Python 3",
   "language": "python",
   "name": "python3"
  },
  "language_info": {
   "codemirror_mode": {
    "name": "ipython",
    "version": 3
   },
   "file_extension": ".py",
   "mimetype": "text/x-python",
   "name": "python",
   "nbconvert_exporter": "python",
   "pygments_lexer": "ipython3",
   "version": "3.7.6"
  }
 },
 "nbformat": 4,
 "nbformat_minor": 2
}
